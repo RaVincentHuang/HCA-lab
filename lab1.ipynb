{
 "cells": [
  {
   "cell_type": "markdown",
   "metadata": {},
   "source": [
    "# 实验1"
   ]
  },
  {
   "cell_type": "markdown",
   "metadata": {},
   "source": [
    "### Parse the Instructions\n",
    "\n",
    "引入enum表示每条指令，表示寄存器"
   ]
  },
  {
   "cell_type": "code",
   "execution_count": 1,
   "metadata": {},
   "outputs": [
    {
     "data": {
      "text/plain": [
       "<enum 'Instruction'>"
      ]
     },
     "execution_count": 1,
     "metadata": {},
     "output_type": "execute_result"
    }
   ],
   "source": [
    "from enum import Enum, IntEnum\n",
    "\n",
    "class InstructionId(Enum):\n",
    "    Load = 0\n",
    "    Store = 1\n",
    "    Add = 2\n",
    "\n",
    "Register = IntEnum(\"Register\", ['R0','R1','R2','R3','R4','R5','R6','R7','R8'\n",
    "                                ,'R9','R10','R11','R12','R13','R14','R15',\n",
    "                                'R16','R17','R18','R19','R20','R21','R22',\n",
    "                                'R23','R24','R25','R26','R27','R28','R29',\n",
    "                                'R30','R31'])\n",
    "\n",
    "class Instruction:\n",
    "    def __init__(self, id: InstructionId) -> None:\n",
    "        self.id = id\n",
    "\n",
    "class Load(Instruction):\n",
    "    def __init__(self, src: Register, addr: int) -> None:\n",
    "        super().__init__(InstructionId.Load)\n",
    "        self.src = src\n",
    "        self.addr = addr\n",
    "    \n",
    "class Store(Instruction):\n",
    "    def __init__(self, dst: Register, addr: int) -> None:\n",
    "        super().__init__(InstructionId.Store)\n",
    "        self.dst = dst\n",
    "        self.addr = addr\n",
    "    \n",
    "class Add(Instruction):\n",
    "    def __init__(self, src1: Register, src2: Register, dst: Register) -> None:\n",
    "        super().__init__(InstructionId.Add)\n",
    "        self.src1 = src1\n",
    "        self.src2 = src2\n",
    "        self.dst = dst\n",
    "        \n",
    "\n",
    "def parser(asm: str) -> list[Instruction]:\n",
    "    instr_list = asm.split(\"\\n\")\n",
    "    for instr in instr_list:\n",
    "        tokens = instr.split()\n",
    "        \n",
    "    \n"
   ]
  }
 ],
 "metadata": {
  "kernelspec": {
   "display_name": "Python 3",
   "language": "python",
   "name": "python3"
  },
  "language_info": {
   "codemirror_mode": {
    "name": "ipython",
    "version": 3
   },
   "file_extension": ".py",
   "mimetype": "text/x-python",
   "name": "python",
   "nbconvert_exporter": "python",
   "pygments_lexer": "ipython3",
   "version": "3.11.4"
  },
  "orig_nbformat": 4
 },
 "nbformat": 4,
 "nbformat_minor": 2
}
