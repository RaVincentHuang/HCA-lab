{
 "cells": [
  {
   "cell_type": "markdown",
   "metadata": {},
   "source": [
    "## 写成RV汇编代码\n",
    "```\n",
    "loop(int*, int):                             # @loop(a->a0: int*, s->a1: int)\n",
    "        addi    a0, a0, 2047\n",
    "        addi    a0, a0, 1949\n",
    "        li      a2, -1000\n",
    ".LBB0_1:                                # =>This Inner Loop Header: Depth=1\n",
    "        lw      a3, 0(a0)\n",
    "        add     a3, a3, a1\n",
    "        sw      a3, 0(a0)\n",
    "        addi    a2, a2, 1\n",
    "        addi    a0, a0, -4\n",
    "        bnez    a2, .LBB0_1\n",
    "```"
   ]
  }
 ],
 "metadata": {
  "language_info": {
   "name": "python"
  }
 },
 "nbformat": 4,
 "nbformat_minor": 2
}
